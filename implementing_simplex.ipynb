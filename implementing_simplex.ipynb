{
 "cells": [
  {
   "cell_type": "markdown",
   "id": "democratic-assumption",
   "metadata": {},
   "source": [
    "# simplex tableau\n",
    "\n",
    "is structured\n",
    "\n",
    "```\n",
    "+---------------+-------------------+\n",
    "| -c'_bB^(-1)b  |   c'-c'_b B^(-1)A |\n",
    "+---------------+-------------------+\n",
    "| B^(-1)b       |  B^(-1)A          |\n",
    "+---------------+-------------------+\n",
    "```\n",
    "meaning:\n",
    "\n",
    "```\n",
    "\n",
    "+---------------------------------+-----------------------------+\n",
    "|    current optim func cost      |  relative cost for each var |\n",
    "+---------------------------------+-----------------------------+\n",
    "| values of vars in current base  |  current const coeficients  |\n",
    "+---------------------------------+-----------------------------+\n",
    "```"
   ]
  },
  {
   "cell_type": "markdown",
   "id": "located-healing",
   "metadata": {},
   "source": [
    "We are minimaizing `-10x1 - 12x2-12x3`\n",
    "\n",
    "with following constraints\n",
    "```\n",
    "1*x1 + 2*x2 + 2*x3 + x4 = 20\n",
    "2*x1 + x2  + 2*x3 + x5 = 20\n",
    "2*x1 + 2*x2  + x3 + x6 = 20\n",
    "x1, ..., x6 >= 0\n",
    "```"
   ]
  },
  {
   "cell_type": "code",
   "execution_count": 23,
   "id": "specified-melissa",
   "metadata": {},
   "outputs": [
    {
     "name": "stdout",
     "output_type": "stream",
     "text": [
      "The autoreload extension is already loaded. To reload it, use:\n",
      "  %reload_ext autoreload\n"
     ]
    }
   ],
   "source": [
    "%load_ext autoreload\n",
    "%autoreload 2\n",
    "import numpy as np\n",
    "import simplex as my\n",
    "import time\n",
    "import logging\n",
    "\n",
    "logging.basicConfig(level=logging.INFO)"
   ]
  },
  {
   "cell_type": "code",
   "execution_count": 24,
   "id": "rapid-seven",
   "metadata": {},
   "outputs": [],
   "source": [
    "A = np.array([[1, 1], \n",
    "              [0, 1], \n",
    "              [1, 2]])\n",
    "b = np.array([0, 6, 3, 9])\n",
    "c = np.array([2, 5])\n"
   ]
  },
  {
   "cell_type": "code",
   "execution_count": 25,
   "id": "metallic-significance",
   "metadata": {},
   "outputs": [],
   "source": [
    "A = np.array([[1, 2, 2], \n",
    "              [2, 1, 2], \n",
    "              [2, 2, 1]])\n",
    "b = np.array([0,20, 20, 20])\n",
    "c = np.array([-10, -12, -12])\n",
    "A = A.reshape((3,3))"
   ]
  },
  {
   "cell_type": "code",
   "execution_count": 26,
   "id": "formed-defendant",
   "metadata": {},
   "outputs": [
    {
     "name": "stdout",
     "output_type": "stream",
     "text": [
      "A [[1. 2. 2. 1. 0. 0.]\n",
      " [2. 1. 2. 0. 1. 0.]\n",
      " [2. 2. 1. 0. 0. 1.]]\n",
      "b [ 0. 20. 20. 20.]\n",
      "c [-10. -12. -12.   0.   0.   0.]\n"
     ]
    }
   ],
   "source": [
    "s = my.Simplex(A,b,c, \"MIN\")\n",
    "print(\"A\",s.A)\n",
    "print(\"b\",s.b)\n",
    "print(\"c\",s.c)"
   ]
  },
  {
   "cell_type": "code",
   "execution_count": 27,
   "id": "mature-growing",
   "metadata": {
    "scrolled": true
   },
   "outputs": [
    {
     "name": "stderr",
     "output_type": "stream",
     "text": [
      "INFO:root:\n",
      " Iteration complete\n",
      " Table: \n",
      " [[120.   -4.    0.    0.    6.    0.    0. ]\n",
      " [ 10.    0.5   1.    1.    0.5   0.    0. ]\n",
      " [ 10.    1.5   0.    1.   -0.5   1.    0. ]\n",
      " [  0.    1.    0.   -1.   -1.    0.    1. ]]\n"
     ]
    }
   ],
   "source": [
    "pass1 = s.optimize()"
   ]
  },
  {
   "cell_type": "code",
   "execution_count": 28,
   "id": "stopped-programmer",
   "metadata": {},
   "outputs": [
    {
     "name": "stderr",
     "output_type": "stream",
     "text": [
      "INFO:root:\n",
      " Iteration complete\n",
      " Table: \n",
      " [[120.    0.    0.   -4.    2.    0.    4. ]\n",
      " [ 10.    0.    1.    1.5   1.    0.   -0.5]\n",
      " [ 10.    0.    0.    2.5   1.    1.   -1.5]\n",
      " [  0.    1.    0.   -1.   -1.    0.    1. ]]\n"
     ]
    }
   ],
   "source": [
    "pass2 = s.optimize()"
   ]
  },
  {
   "cell_type": "code",
   "execution_count": 29,
   "id": "fatal-document",
   "metadata": {},
   "outputs": [
    {
     "data": {
      "text/plain": [
       "array([[120. ,   0. ,   0. ,  -4. ,   2. ,   0. ,   4. ],\n",
       "       [ 10. ,   0. ,   1. ,   1.5,   1. ,   0. ,  -0.5],\n",
       "       [ 10. ,   0. ,   0. ,   2.5,   1. ,   1. ,  -1.5],\n",
       "       [  0. ,   1. ,   0. ,  -1. ,  -1. ,   0. ,   1. ]])"
      ]
     },
     "execution_count": 29,
     "metadata": {},
     "output_type": "execute_result"
    }
   ],
   "source": [
    "pass2"
   ]
  },
  {
   "cell_type": "code",
   "execution_count": 30,
   "id": "gentle-street",
   "metadata": {
    "scrolled": true
   },
   "outputs": [
    {
     "name": "stderr",
     "output_type": "stream",
     "text": [
      "INFO:root:\n",
      " Iteration complete\n",
      " Table: \n",
      " [[136.    0.    0.    0.    3.6   1.6   1.6]\n",
      " [  4.    0.    1.    0.    0.4  -0.6   0.4]\n",
      " [  4.    0.    0.    1.    0.4   0.4  -0.6]\n",
      " [  4.    1.    0.    0.   -0.6   0.4   0.4]]\n"
     ]
    },
    {
     "data": {
      "text/plain": [
       "array([0. , 0. , 0. , 3.6, 1.6, 1.6])"
      ]
     },
     "execution_count": 30,
     "metadata": {},
     "output_type": "execute_result"
    }
   ],
   "source": [
    "s.optimize()\n",
    "s.c"
   ]
  },
  {
   "cell_type": "code",
   "execution_count": 31,
   "id": "enormous-boutique",
   "metadata": {},
   "outputs": [],
   "source": [
    "test_itr_1 = np.array([\n",
    "[120.0,\t-4.0,\t0.0,\t0.0,\t6.0,\t0.0,\t0.0\t],\n",
    "[10.0,\t0.5,\t1.0,\t1.0,\t0.5,\t0.0,\t0.0\t],\n",
    "[10.0,\t1.5,\t0.0,\t1.0,\t-0.5,\t1.0,\t0.0\t],\n",
    "[0.0,\t1.0,\t0.0,\t-1.0,\t-1.0,\t0.0,\t1.0\t]\n",
    "])\n",
    "assert(np.array_equiv(pass1, test_itr_1))"
   ]
  },
  {
   "cell_type": "code",
   "execution_count": 32,
   "id": "structural-denial",
   "metadata": {},
   "outputs": [],
   "source": [
    "test_itr_2 = np.array([\n",
    "[120.0, 0.0, 0.0, -4.0, 2.0, 0.0, 4.0],\n",
    "[10.0,0.0,1.0,1.5,1.0,0.0,-0.5],\n",
    "[10.0,0.0,0.0,2.5,1.0,\t1.0,\t-1.5],\n",
    "[0.0,1.0,\t0.0,\t-1.0,\t-1.0,\t0.0,\t1.0],\n",
    "])\n",
    "assert(np.array_equiv(pass2, test_itr_2))"
   ]
  },
  {
   "cell_type": "code",
   "execution_count": 33,
   "id": "acute-messenger",
   "metadata": {},
   "outputs": [
    {
     "name": "stderr",
     "output_type": "stream",
     "text": [
      "INFO:root:\n",
      " Iteration complete\n",
      " Table: \n",
      " [[120.   -4.    0.    0.    6.    0.    0. ]\n",
      " [ 10.    0.5   1.    1.    0.5   0.    0. ]\n",
      " [ 10.    1.5   0.    1.   -0.5   1.    0. ]\n",
      " [  0.    1.    0.   -1.   -1.    0.    1. ]]\n",
      "INFO:root:\n",
      " Iteration complete\n",
      " Table: \n",
      " [[120.    0.    0.   -4.    2.    0.    4. ]\n",
      " [ 10.    0.    1.    1.5   1.    0.   -0.5]\n",
      " [ 10.    0.    0.    2.5   1.    1.   -1.5]\n",
      " [  0.    1.    0.   -1.   -1.    0.    1. ]]\n",
      "INFO:root:\n",
      " Iteration complete\n",
      " Table: \n",
      " [[136.    0.    0.    0.    3.6   1.6   1.6]\n",
      " [  4.    0.    1.    0.    0.4  -0.6   0.4]\n",
      " [  4.    0.    0.    1.    0.4   0.4  -0.6]\n",
      " [  4.    1.    0.    0.   -0.6   0.4   0.4]]\n",
      "INFO:root:\n",
      " Iteration complete\n",
      " Table: \n",
      " [[136.    0.    0.    0.    3.6   1.6   1.6]\n",
      " [  4.    0.    1.    0.    0.4  -0.6   0.4]\n",
      " [  4.    0.    0.    1.    0.4   0.4  -0.6]\n",
      " [  4.    1.    0.    0.   -0.6   0.4   0.4]]\n"
     ]
    },
    {
     "name": "stdout",
     "output_type": "stream",
     "text": [
      "result:  [4. 4. 4.]\n",
      "This all took:  0.02633993001654744\n"
     ]
    },
    {
     "data": {
      "text/plain": [
       "array([[136. ,   0. ,   0. ,   0. ,   3.6,   1.6,   1.6],\n",
       "       [  4. ,   0. ,   1. ,   0. ,   0.4,  -0.6,   0.4],\n",
       "       [  4. ,   0. ,   0. ,   1. ,   0.4,   0.4,  -0.6],\n",
       "       [  4. ,   1. ,   0. ,   0. ,  -0.6,   0.4,   0.4]])"
      ]
     },
     "execution_count": 33,
     "metadata": {},
     "output_type": "execute_result"
    }
   ],
   "source": [
    "s = my.Simplex(A,b,c, \"MIN\")\n",
    "start = time.perf_counter()\n",
    "print(\"result: \",s.simplex(4))\n",
    "stop = time.perf_counter()\n",
    "print(\"This all took: \",stop-start)\n",
    "s.create_tab()"
   ]
  },
  {
   "cell_type": "code",
   "execution_count": 34,
   "id": "opposite-prefix",
   "metadata": {},
   "outputs": [
    {
     "name": "stdout",
     "output_type": "stream",
     "text": [
      "[[ 0  0]\n",
      " [ 0 -2]]\n"
     ]
    },
    {
     "data": {
      "text/plain": [
       "2"
      ]
     },
     "execution_count": 34,
     "metadata": {},
     "output_type": "execute_result"
    }
   ],
   "source": [
    "img1 = np.array([[2,2],[2,4]])\n",
    "img2 = np.array([[2,2],[2,2]])\n",
    "print(img2-img1)\n",
    "np.sum(img1 - img2)"
   ]
  },
  {
   "cell_type": "code",
   "execution_count": 35,
   "id": "exterior-siemens",
   "metadata": {},
   "outputs": [],
   "source": [
    "A = [\n",
    "    [1, -1, 0, 0],\n",
    "    [1, 0, -1, 0],\n",
    "    [-1, 1, 0, 0],\n",
    "    [0, 1, 0, -1],\n",
    "    [-1, 0, 1, 0],\n",
    "    [0, 0, 1, -1],\n",
    "    [0, -1, 0, 1],\n",
    "    [0, 0, -1, 2],\n",
    "]\n",
    "len(A)\n",
    "c = [-0,-0,-0,-2]\n",
    "b = [0,1,1,1,1,1,1,1,1]\n",
    "assert(len(b)==len(A)+1)\n",
    "assert(len(A)==8)"
   ]
  },
  {
   "cell_type": "code",
   "execution_count": 36,
   "id": "green-extraction",
   "metadata": {
    "scrolled": false
   },
   "outputs": [
    {
     "name": "stderr",
     "output_type": "stream",
     "text": [
      "INFO:root:\n",
      " Iteration complete\n",
      " Table: \n",
      " [[ 0.  0.  0.  0. -2.  0.  0.  0.  0.  0.  0.  0.  0.]\n",
      " [ 1.  1. -1.  0.  0.  1.  0.  0.  0.  0.  0.  0.  0.]\n",
      " [ 0.  0.  1. -1.  0. -1.  1.  0.  0.  0.  0.  0.  0.]\n",
      " [ 2.  0.  0.  0.  0.  1.  0.  1.  0.  0.  0.  0.  0.]\n",
      " [ 1.  0.  1.  0. -1.  0.  0.  0.  1.  0.  0.  0.  0.]\n",
      " [ 2.  0. -1.  1.  0.  1.  0.  0.  0.  1.  0.  0.  0.]\n",
      " [ 1.  0.  0.  1. -1.  0.  0.  0.  0.  0.  1.  0.  0.]\n",
      " [ 1.  0. -1.  0.  1.  0.  0.  0.  0.  0.  0.  1.  0.]\n",
      " [ 1.  0.  0. -1.  2.  0.  0.  0.  0.  0.  0.  0.  1.]]\n"
     ]
    },
    {
     "data": {
      "text/plain": [
       "array([[ 0.,  0.,  0.,  0., -2.,  0.,  0.,  0.,  0.,  0.,  0.,  0.,  0.],\n",
       "       [ 1.,  1., -1.,  0.,  0.,  1.,  0.,  0.,  0.,  0.,  0.,  0.,  0.],\n",
       "       [ 0.,  0.,  1., -1.,  0., -1.,  1.,  0.,  0.,  0.,  0.,  0.,  0.],\n",
       "       [ 2.,  0.,  0.,  0.,  0.,  1.,  0.,  1.,  0.,  0.,  0.,  0.,  0.],\n",
       "       [ 1.,  0.,  1.,  0., -1.,  0.,  0.,  0.,  1.,  0.,  0.,  0.,  0.],\n",
       "       [ 2.,  0., -1.,  1.,  0.,  1.,  0.,  0.,  0.,  1.,  0.,  0.,  0.],\n",
       "       [ 1.,  0.,  0.,  1., -1.,  0.,  0.,  0.,  0.,  0.,  1.,  0.,  0.],\n",
       "       [ 1.,  0., -1.,  0.,  1.,  0.,  0.,  0.,  0.,  0.,  0.,  1.,  0.],\n",
       "       [ 1.,  0.,  0., -1.,  2.,  0.,  0.,  0.,  0.,  0.,  0.,  0.,  1.]])"
      ]
     },
     "execution_count": 36,
     "metadata": {},
     "output_type": "execute_result"
    }
   ],
   "source": [
    "s2 = my.Simplex(A,b,c,\"MAX\")\n",
    "s2.optimize()"
   ]
  },
  {
   "cell_type": "code",
   "execution_count": 37,
   "id": "preliminary-mineral",
   "metadata": {},
   "outputs": [
    {
     "name": "stderr",
     "output_type": "stream",
     "text": [
      "INFO:root:\n",
      " Iteration complete\n",
      " Table: \n",
      " [[ 0.  0.  0.  0. -2.  0.  0.  0.  0.  0.  0.  0.  0.]\n",
      " [ 1.  1. -1.  0.  0.  1.  0.  0.  0.  0.  0.  0.  0.]\n",
      " [ 0.  0.  1. -1.  0. -1.  1.  0.  0.  0.  0.  0.  0.]\n",
      " [ 2.  0.  0.  0.  0.  1.  0.  1.  0.  0.  0.  0.  0.]\n",
      " [ 1.  0.  1.  0. -1.  0.  0.  0.  1.  0.  0.  0.  0.]\n",
      " [ 2.  0. -1.  1.  0.  1.  0.  0.  0.  1.  0.  0.  0.]\n",
      " [ 1.  0.  0.  1. -1.  0.  0.  0.  0.  0.  1.  0.  0.]\n",
      " [ 1.  0. -1.  0.  1.  0.  0.  0.  0.  0.  0.  1.  0.]\n",
      " [ 1.  0.  0. -1.  2.  0.  0.  0.  0.  0.  0.  0.  1.]]\n"
     ]
    }
   ],
   "source": [
    "res = s2.simplex()"
   ]
  },
  {
   "cell_type": "code",
   "execution_count": 38,
   "id": "adequate-extension",
   "metadata": {},
   "outputs": [
    {
     "name": "stdout",
     "output_type": "stream",
     "text": [
      "[1. 0. 2. 1. 2. 1. 1. 1.]\n",
      "[[0 0]\n",
      " [0 2]]\n"
     ]
    },
    {
     "data": {
      "text/plain": [
       "array([0., 1., 0., 2., 1., 2., 1., 1., 1.])"
      ]
     },
     "execution_count": 38,
     "metadata": {},
     "output_type": "execute_result"
    }
   ],
   "source": [
    "print(res)\n",
    "print(img1-img2)\n",
    "s2.apply_func(img1-img2)\n",
    "s2.b"
   ]
  },
  {
   "cell_type": "code",
   "execution_count": 46,
   "id": "abandoned-coach",
   "metadata": {
    "scrolled": true
   },
   "outputs": [
    {
     "name": "stderr",
     "output_type": "stream",
     "text": [
      "INFO:root:\n",
      " Iteration complete\n",
      " Table: \n",
      " [[ 0.  1.  1.  1.  0.  0.  0.  0.  0.]\n",
      " [ 3.  1.  2.  3.  0.  1.  0.  0.  0.]\n",
      " [ 2. -1.  2.  6.  0.  0.  1.  0.  0.]\n",
      " [ 5.  0.  4.  9.  0.  0.  0.  1.  0.]\n",
      " [ 1.  0.  0.  3.  1.  0.  0.  0.  1.]]\n",
      "INFO:root:\n",
      " Iteration complete\n",
      " Table: \n",
      " [[ 0.  1.  1.  1.  0.  0.  0.  0.  0.]\n",
      " [ 3.  1.  2.  3.  0.  1.  0.  0.  0.]\n",
      " [ 2. -1.  2.  6.  0.  0.  1.  0.  0.]\n",
      " [ 5.  0.  4.  9.  0.  0.  0.  1.  0.]\n",
      " [ 1.  0.  0.  3.  1.  0.  0.  0.  1.]]\n",
      "INFO:root:\n",
      " Iteration complete\n",
      " Table: \n",
      " [[ 0.  1.  1.  1.  0.  0.  0.  0.  0.]\n",
      " [ 3.  1.  2.  3.  0.  1.  0.  0.  0.]\n",
      " [ 2. -1.  2.  6.  0.  0.  1.  0.  0.]\n",
      " [ 5.  0.  4.  9.  0.  0.  0.  1.  0.]\n",
      " [ 1.  0.  0.  3.  1.  0.  0.  0.  1.]]\n",
      "INFO:root:\n",
      " Iteration complete\n",
      " Table: \n",
      " [[ 0.  1.  1.  1.  0.  0.  0.  0.  0.]\n",
      " [ 3.  1.  2.  3.  0.  1.  0.  0.  0.]\n",
      " [ 2. -1.  2.  6.  0.  0.  1.  0.  0.]\n",
      " [ 5.  0.  4.  9.  0.  0.  0.  1.  0.]\n",
      " [ 1.  0.  0.  3.  1.  0.  0.  0.  1.]]\n",
      "INFO:root:\n",
      " Iteration complete\n",
      " Table: \n",
      " [[ 0.  1.  1.  1.  0.  0.  0.  0.  0.]\n",
      " [ 3.  1.  2.  3.  0.  1.  0.  0.  0.]\n",
      " [ 2. -1.  2.  6.  0.  0.  1.  0.  0.]\n",
      " [ 5.  0.  4.  9.  0.  0.  0.  1.  0.]\n",
      " [ 1.  0.  0.  3.  1.  0.  0.  0.  1.]]\n",
      "INFO:root:\n",
      " Iteration complete\n",
      " Table: \n",
      " [[ 0.  1.  1.  1.  0.  0.  0.  0.  0.]\n",
      " [ 3.  1.  2.  3.  0.  1.  0.  0.  0.]\n",
      " [ 2. -1.  2.  6.  0.  0.  1.  0.  0.]\n",
      " [ 5.  0.  4.  9.  0.  0.  0.  1.  0.]\n",
      " [ 1.  0.  0.  3.  1.  0.  0.  0.  1.]]\n",
      "INFO:root:\n",
      " Iteration complete\n",
      " Table: \n",
      " [[ 0.  1.  1.  1.  0.  0.  0.  0.  0.]\n",
      " [ 3.  1.  2.  3.  0.  1.  0.  0.  0.]\n",
      " [ 2. -1.  2.  6.  0.  0.  1.  0.  0.]\n",
      " [ 5.  0.  4.  9.  0.  0.  0.  1.  0.]\n",
      " [ 1.  0.  0.  3.  1.  0.  0.  0.  1.]]\n",
      "INFO:root:\n",
      " Iteration complete\n",
      " Table: \n",
      " [[ 0.  1.  1.  1.  0.  0.  0.  0.  0.]\n",
      " [ 3.  1.  2.  3.  0.  1.  0.  0.  0.]\n",
      " [ 2. -1.  2.  6.  0.  0.  1.  0.  0.]\n",
      " [ 5.  0.  4.  9.  0.  0.  0.  1.  0.]\n",
      " [ 1.  0.  0.  3.  1.  0.  0.  0.  1.]]\n",
      "INFO:root:\n",
      " Iteration complete\n",
      " Table: \n",
      " [[ 0.  1.  1.  1.  0.  0.  0.  0.  0.]\n",
      " [ 3.  1.  2.  3.  0.  1.  0.  0.  0.]\n",
      " [ 2. -1.  2.  6.  0.  0.  1.  0.  0.]\n",
      " [ 5.  0.  4.  9.  0.  0.  0.  1.  0.]\n",
      " [ 1.  0.  0.  3.  1.  0.  0.  0.  1.]]\n",
      "INFO:root:\n",
      " Iteration complete\n",
      " Table: \n",
      " [[ 0.  1.  1.  1.  0.  0.  0.  0.  0.]\n",
      " [ 3.  1.  2.  3.  0.  1.  0.  0.  0.]\n",
      " [ 2. -1.  2.  6.  0.  0.  1.  0.  0.]\n",
      " [ 5.  0.  4.  9.  0.  0.  0.  1.  0.]\n",
      " [ 1.  0.  0.  3.  1.  0.  0.  0.  1.]]\n"
     ]
    },
    {
     "data": {
      "text/plain": [
       "array([3., 2., 5., 1.])"
      ]
     },
     "execution_count": 46,
     "metadata": {},
     "output_type": "execute_result"
    }
   ],
   "source": [
    "A = np.array([[1, 2, 3, 0], \n",
    "              [-1, 2, 6, 0], \n",
    "              [0, 4, 9, 0],\n",
    "              [0, 0, 3, 1]])\n",
    "b = np.array([0,3, 2, 5, 1])\n",
    "c = np.array([1, 1, 1, 0])\n",
    "\n",
    "s3 = my.Simplex(A,b,c,\"MIN\")\n",
    "s3.simplex(10)"
   ]
  },
  {
   "cell_type": "code",
   "execution_count": 44,
   "id": "altered-ozone",
   "metadata": {},
   "outputs": [
    {
     "name": "stderr",
     "output_type": "stream",
     "text": [
      "INFO:root:\n",
      " Iteration complete\n",
      " Table: \n",
      " [[ 0.  1.  1.  1.  0.  0.  0.  0.  0.]\n",
      " [ 3.  1.  2.  3.  0.  1.  0.  0.  0.]\n",
      " [ 2. -1.  2.  6.  0.  0.  1.  0.  0.]\n",
      " [ 5.  0.  4.  9.  0.  0.  0.  1.  0.]\n",
      " [ 1.  0.  0.  3.  1.  0.  0.  0.  1.]]\n",
      "INFO:root:\n",
      " Iteration complete\n",
      " Table: \n",
      " [[ 0.  1.  1.  1.  0.  0.  0.  0.  0.]\n",
      " [ 3.  1.  2.  3.  0.  1.  0.  0.  0.]\n",
      " [ 2. -1.  2.  6.  0.  0.  1.  0.  0.]\n",
      " [ 5.  0.  4.  9.  0.  0.  0.  1.  0.]\n",
      " [ 1.  0.  0.  3.  1.  0.  0.  0.  1.]]\n",
      "INFO:root:\n",
      " Iteration complete\n",
      " Table: \n",
      " [[ 0.  1.  1.  1.  0.  0.  0.  0.  0.]\n",
      " [ 3.  1.  2.  3.  0.  1.  0.  0.  0.]\n",
      " [ 2. -1.  2.  6.  0.  0.  1.  0.  0.]\n",
      " [ 5.  0.  4.  9.  0.  0.  0.  1.  0.]\n",
      " [ 1.  0.  0.  3.  1.  0.  0.  0.  1.]]\n",
      "INFO:root:\n",
      " Iteration complete\n",
      " Table: \n",
      " [[ 0.  1.  1.  1.  0.  0.  0.  0.  0.]\n",
      " [ 3.  1.  2.  3.  0.  1.  0.  0.  0.]\n",
      " [ 2. -1.  2.  6.  0.  0.  1.  0.  0.]\n",
      " [ 5.  0.  4.  9.  0.  0.  0.  1.  0.]\n",
      " [ 1.  0.  0.  3.  1.  0.  0.  0.  1.]]\n",
      "INFO:root:\n",
      " Iteration complete\n",
      " Table: \n",
      " [[ 0.  1.  1.  1.  0.  0.  0.  0.  0.]\n",
      " [ 3.  1.  2.  3.  0.  1.  0.  0.  0.]\n",
      " [ 2. -1.  2.  6.  0.  0.  1.  0.  0.]\n",
      " [ 5.  0.  4.  9.  0.  0.  0.  1.  0.]\n",
      " [ 1.  0.  0.  3.  1.  0.  0.  0.  1.]]\n",
      "INFO:root:\n",
      " Iteration complete\n",
      " Table: \n",
      " [[ 0.  1.  1.  1.  0.  0.  0.  0.  0.]\n",
      " [ 3.  1.  2.  3.  0.  1.  0.  0.  0.]\n",
      " [ 2. -1.  2.  6.  0.  0.  1.  0.  0.]\n",
      " [ 5.  0.  4.  9.  0.  0.  0.  1.  0.]\n",
      " [ 1.  0.  0.  3.  1.  0.  0.  0.  1.]]\n",
      "INFO:root:\n",
      " Iteration complete\n",
      " Table: \n",
      " [[ 0.  1.  1.  1.  0.  0.  0.  0.  0.]\n",
      " [ 3.  1.  2.  3.  0.  1.  0.  0.  0.]\n",
      " [ 2. -1.  2.  6.  0.  0.  1.  0.  0.]\n",
      " [ 5.  0.  4.  9.  0.  0.  0.  1.  0.]\n",
      " [ 1.  0.  0.  3.  1.  0.  0.  0.  1.]]\n",
      "INFO:root:\n",
      " Iteration complete\n",
      " Table: \n",
      " [[ 0.  1.  1.  1.  0.  0.  0.  0.  0.]\n",
      " [ 3.  1.  2.  3.  0.  1.  0.  0.  0.]\n",
      " [ 2. -1.  2.  6.  0.  0.  1.  0.  0.]\n",
      " [ 5.  0.  4.  9.  0.  0.  0.  1.  0.]\n",
      " [ 1.  0.  0.  3.  1.  0.  0.  0.  1.]]\n",
      "INFO:root:\n",
      " Iteration complete\n",
      " Table: \n",
      " [[ 0.  1.  1.  1.  0.  0.  0.  0.  0.]\n",
      " [ 3.  1.  2.  3.  0.  1.  0.  0.  0.]\n",
      " [ 2. -1.  2.  6.  0.  0.  1.  0.  0.]\n",
      " [ 5.  0.  4.  9.  0.  0.  0.  1.  0.]\n",
      " [ 1.  0.  0.  3.  1.  0.  0.  0.  1.]]\n",
      "INFO:root:\n",
      " Iteration complete\n",
      " Table: \n",
      " [[ 0.  1.  1.  1.  0.  0.  0.  0.  0.]\n",
      " [ 3.  1.  2.  3.  0.  1.  0.  0.  0.]\n",
      " [ 2. -1.  2.  6.  0.  0.  1.  0.  0.]\n",
      " [ 5.  0.  4.  9.  0.  0.  0.  1.  0.]\n",
      " [ 1.  0.  0.  3.  1.  0.  0.  0.  1.]]\n"
     ]
    }
   ],
   "source": [
    "A = np.array([[1, 2, 3, 0], \n",
    "              [-1, 2, 6, 0], \n",
    "              [0, 4, 9, 0],\n",
    "              [0, 0, 3, 1]])\n",
    "b = np.array([0,3, 2, 5, 1])\n",
    "c = np.array([1, 1, 1, 0])\n",
    "s2 = my.Simplex(A,b,c,\"MIN\")\n",
    "res = s2.simplex(10)"
   ]
  },
  {
   "cell_type": "code",
   "execution_count": null,
   "id": "formal-kazakhstan",
   "metadata": {},
   "outputs": [],
   "source": []
  }
 ],
 "metadata": {
  "kernelspec": {
   "display_name": "Python 3",
   "language": "python",
   "name": "python3"
  },
  "language_info": {
   "codemirror_mode": {
    "name": "ipython",
    "version": 3
   },
   "file_extension": ".py",
   "mimetype": "text/x-python",
   "name": "python",
   "nbconvert_exporter": "python",
   "pygments_lexer": "ipython3",
   "version": "3.8.5"
  }
 },
 "nbformat": 4,
 "nbformat_minor": 5
}
